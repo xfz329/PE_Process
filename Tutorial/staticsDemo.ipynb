{
 "cells": [
  {
   "cell_type": "markdown",
   "metadata": {},
   "source": [
    "# Python 下的统计分析——coding 实现SPSS的自动化分析任务\n",
    "* SPSS分析时，需要人工设置设置数据，当有大量数据需要操作时，效率不够高，其次，若数据更新后，更新相关统计分析的结果时的操作更是繁杂。\n",
    "* 偷懒的惰性促使我们需要找到更有效率的工具。\n",
    "* 搜索了下Python下的统计分析工具，在不少package里面都发现了相应的工具，这里简单汇总并简单测试下。\n",
    "1. Scipy.stats\n",
    "2. Statsmodels\n",
    "3. Pingouin\n",
    "4. Bioinfokit"
   ]
  },
  {
   "cell_type": "markdown",
   "metadata": {},
   "source": [
    "## Scipy.stats\n",
    "* [Scipy.stats](https://docs.scipy.org/doc/scipy/reference/stats.html)模块包含大量概率分布、汇总和频率统计、相关函数和统计检验、掩蔽统计、核密度估计、准蒙特卡洛函数等，目前最新版本1.8.0.\n",
    "* 强烈推荐阅读[官方文档](https://docs.scipy.org/doc/scipy/reference/stats.html)及[官方教程](https://docs.scipy.org/doc/scipy/tutorial/stats.html)，可参考国内[博客](https://blog.csdn.net/pipisorry/article/details/49515215)\n",
    "* 下面以常用的统计分析方法在scipy下的api使用给出范例，参考[17 Statistical Hypothesis Tests in Python](https://machinelearningmastery.com/statistical-hypothesis-tests-in-python-cheat-sheet/)"
   ]
  },
  {
   "cell_type": "markdown",
   "metadata": {},
   "source": [
    "### 正态性检验\n",
    "* 本部分列出了可用于检查数据是否具有高斯分布的统计检验\n",
    "* 以下检验方法都是为了验证下列猜想\n",
    "1. H0：样本具有高斯分布\n",
    "2. H1：样本具有高斯分布"
   ]
  },
  {
   "cell_type": "markdown",
   "metadata": {},
   "source": [
    "#### 夏皮罗-威尔克检验(Shapiro-Wilk Test)\n",
    "* 假设每个样本中的观测值都是独立且分布相同的(independent and identically distributed, IID)。\n",
    "* 参考资料\n",
    "1. [A Gentle Introduction to Normality Tests in Python](https://machinelearningmastery.com/a-gentle-introduction-to-normality-tests-in-python/)\n",
    "2. [scipy.stats.shapiro](https://docs.scipy.org/doc/scipy/reference/generated/scipy.stats.shapiro.html)\n",
    "3. [Shapiro-Wilk test on Wikipedia](https://en.wikipedia.org/wiki/Shapiro%E2%80%93Wilk_test)\n",
    "4. 3需要梯子，我找了个国内[博客](https://blog.csdn.net/lvsehaiyang1993/article/details/80473265)"
   ]
  },
  {
   "cell_type": "code",
   "execution_count": 1,
   "metadata": {
    "ExecuteTime": {
     "end_time": "2022-03-22T03:08:08.723221Z",
     "start_time": "2022-03-22T03:08:08.248837Z"
    }
   },
   "outputs": [
    {
     "name": "stdout",
     "output_type": "stream",
     "text": [
      "stat=0.895, p=0.193\n",
      "Probably Gaussian\n"
     ]
    }
   ],
   "source": [
    "# Example of the Shapiro-Wilk Normality Test\n",
    "from scipy.stats import shapiro\n",
    "data = [0.873, 2.817, 0.121, -0.945, -0.055, -1.436, 0.360, -1.478, -1.637, -1.869]\n",
    "stat, p = shapiro(data)\n",
    "print('stat=%.3f, p=%.3f' % (stat, p))\n",
    "if p > 0.05:\n",
    "\tprint('Probably Gaussian')\n",
    "else:\n",
    "\tprint('Probably not Gaussian')"
   ]
  },
  {
   "cell_type": "markdown",
   "metadata": {},
   "source": [
    "#### D’Agostino’s K^2 Test(没找到中文翻译)\n",
    "* 假设每个样本中的观测值都是独立且分布相同的(independent and identically distributed, IID)。\n",
    "* 参考资料\n",
    "1. [A Gentle Introduction to Normality Tests in Python](https://machinelearningmastery.com/a-gentle-introduction-to-normality-tests-in-python/)\n",
    "2. [scipy.stats.normaltest](https://docs.scipy.org/doc/scipy/reference/generated/scipy.stats.normaltest.html)\n",
    "3. [D’Agostino’s K-squared test on Wikipedia](https://en.wikipedia.org/wiki/D%27Agostino%27s_K-squared_test)"
   ]
  },
  {
   "cell_type": "code",
   "execution_count": null,
   "metadata": {},
   "outputs": [],
   "source": [
    "# Example of the D'Agostino's K^2 Normality Test\n",
    "from scipy.stats import normaltest\n",
    "data = [0.873, 2.817, 0.121, -0.945, -0.055, -1.436, 0.360, -1.478, -1.637, -1.869]\n",
    "stat, p = normaltest(data)\n",
    "print('stat=%.3f, p=%.3f' % (stat, p))\n",
    "if p > 0.05:\n",
    "\tprint('Probably Gaussian')\n",
    "else:\n",
    "\tprint('Probably not Gaussian')"
   ]
  },
  {
   "cell_type": "markdown",
   "metadata": {},
   "source": [
    "#### 安德森-达令检验(Anderson-Darling Test)\n",
    "* 假设每个样本中的观测值都是独立且分布相同的(independent and identically distributed, IID)。\n",
    "* 参考资料\n",
    "1. [A Gentle Introduction to Normality Tests in Python](https://machinelearningmastery.com/a-gentle-introduction-to-normality-tests-in-python/)\n",
    "2. [scipy.stats.anderson](https://docs.scipy.org/doc/scipy/reference/generated/scipy.stats.anderson.html)\n",
    "3. [Anderson-Darling test on Wikipedia](https://en.wikipedia.org/wiki/Anderson%E2%80%93Darling_test)"
   ]
  },
  {
   "cell_type": "code",
   "execution_count": 2,
   "metadata": {
    "ExecuteTime": {
     "end_time": "2022-03-22T03:34:07.840063Z",
     "start_time": "2022-03-22T03:34:07.819700Z"
    }
   },
   "outputs": [
    {
     "name": "stdout",
     "output_type": "stream",
     "text": [
      "stat=0.424\n",
      "Probably Gaussian at the 15.0% level\n",
      "Probably Gaussian at the 10.0% level\n",
      "Probably Gaussian at the 5.0% level\n",
      "Probably Gaussian at the 2.5% level\n",
      "Probably Gaussian at the 1.0% level\n"
     ]
    }
   ],
   "source": [
    "# Example of the Anderson-Darling Normality Test\n",
    "from scipy.stats import anderson\n",
    "data = [0.873, 2.817, 0.121, -0.945, -0.055, -1.436, 0.360, -1.478, -1.637, -1.869]\n",
    "result = anderson(data)\n",
    "print('stat=%.3f' % (result.statistic))\n",
    "for i in range(len(result.critical_values)):\n",
    "\tsl, cv = result.significance_level[i], result.critical_values[i]\n",
    "\tif result.statistic < cv:\n",
    "\t\tprint('Probably Gaussian at the %.1f%% level' % (sl))\n",
    "\telse:\n",
    "\t\tprint('Probably not Gaussian at the %.1f%% level' % (sl))"
   ]
  },
  {
   "cell_type": "markdown",
   "metadata": {},
   "source": [
    "### 相关性检验\n",
    "* 以下检验方法都是为了验证下列猜想\n",
    "1. H0：样本是独立的\n",
    "2. H1：样本之间存在依赖关系。"
   ]
  },
  {
   "cell_type": "markdown",
   "metadata": {},
   "source": [
    "#### 皮尔逊相关系数(Pearson’s Correlation Coefficient)\n",
    "* 测试两个样本是否具有线性关系。\n",
    "* 每个样本中的观测值都是独立且分布相同的（iid）。\n",
    "* 每个样本中的观测值呈正态分布。\n",
    "* 每个样本中的观测值具有相同的方差。\n",
    "* 参考资料\n",
    "1. [How to Calculate Correlation Between Variables in Python](https://machinelearningmastery.com/how-to-use-correlation-to-understand-the-relationship-between-variables/)\n",
    "2. [scipy.stats.pearsonr](https://docs.scipy.org/doc/scipy/reference/generated/scipy.stats.pearsonr.html)\n",
    "3. [Pearson’s correlation coefficient on Wikipedia](https://en.wikipedia.org/wiki/Pearson_correlation_coefficient)"
   ]
  },
  {
   "cell_type": "code",
   "execution_count": 3,
   "metadata": {
    "ExecuteTime": {
     "end_time": "2022-03-22T06:10:24.993941Z",
     "start_time": "2022-03-22T06:10:24.975068Z"
    }
   },
   "outputs": [
    {
     "name": "stdout",
     "output_type": "stream",
     "text": [
      "stat=0.688, p=0.028\n",
      "Probably dependent\n"
     ]
    }
   ],
   "source": [
    "# Example of the Pearson's Correlation test\n",
    "from scipy.stats import pearsonr\n",
    "data1 = [0.873, 2.817, 0.121, -0.945, -0.055, -1.436, 0.360, -1.478, -1.637, -1.869]\n",
    "data2 = [0.353, 3.517, 0.125, -7.545, -0.555, -1.536, 3.350, -1.578, -3.537, -1.579]\n",
    "stat, p = pearsonr(data1, data2)\n",
    "print('stat=%.3f, p=%.3f' % (stat, p))\n",
    "if p > 0.05:\n",
    "\tprint('Probably independent')\n",
    "else:\n",
    "\tprint('Probably dependent')"
   ]
  },
  {
   "cell_type": "markdown",
   "metadata": {},
   "source": [
    "#### 斯皮尔曼等级相关系数(Spearman’s Rank Correlation)\n",
    "* 测试两个样本是否具有单调关系。\n",
    "* 每个样本中的观测值都是独立且分布相同的（iid）。\n",
    "* 可以对每个样本中的观测值进行排名。\n",
    "* 参考资料\n",
    "1. [How to Calculate Nonparametric Rank Correlation in Python](https://machinelearningmastery.com/how-to-calculate-nonparametric-rank-correlation-in-python/)\n",
    "2. [scipy.stats.spearmanr](https://docs.scipy.org/doc/scipy/reference/generated/scipy.stats.spearmanr.html)\n",
    "3. [Spearman’s rank correlation coefficient on Wikipedia](https://en.wikipedia.org/wiki/Spearman%27s_rank_correlation_coefficient)"
   ]
  },
  {
   "cell_type": "code",
   "execution_count": 4,
   "metadata": {
    "ExecuteTime": {
     "end_time": "2022-03-22T06:17:30.531740Z",
     "start_time": "2022-03-22T06:17:30.494887Z"
    }
   },
   "outputs": [
    {
     "name": "stdout",
     "output_type": "stream",
     "text": [
      "stat=0.855, p=0.002\n",
      "Probably dependent\n"
     ]
    }
   ],
   "source": [
    "# Example of the Spearman's Rank Correlation Test\n",
    "from scipy.stats import spearmanr\n",
    "data1 = [0.873, 2.817, 0.121, -0.945, -0.055, -1.436, 0.360, -1.478, -1.637, -1.869]\n",
    "data2 = [0.353, 3.517, 0.125, -7.545, -0.555, -1.536, 3.350, -1.578, -3.537, -1.579]\n",
    "stat, p = spearmanr(data1, data2)\n",
    "print('stat=%.3f, p=%.3f' % (stat, p))\n",
    "if p > 0.05:\n",
    "\tprint('Probably independent')\n",
    "else:\n",
    "\tprint('Probably dependent')"
   ]
  },
  {
   "cell_type": "markdown",
   "metadata": {},
   "source": [
    "#### 肯德尔等级系数(Kendall’s Rank Correlation)\n",
    "* 测试两个样本是否具有单调关系。\n",
    "* 每个样本中的观测值都是独立且分布相同的（iid）。\n",
    "* 可以对每个样本中的观测值进行排名。\n",
    "* 参考资料\n",
    "1. [How to Calculate Nonparametric Rank Correlation in Python](https://machinelearningmastery.com/how-to-calculate-nonparametric-rank-correlation-in-python/)\n",
    "2. [scipy.stats.kendalltau](https://docs.scipy.org/doc/scipy/reference/generated/scipy.stats.kendalltau.html)\n",
    "3. [Kendall rank correlation coefficient on Wikipedia](https://en.wikipedia.org/wiki/Kendall_rank_correlation_coefficient)"
   ]
  },
  {
   "cell_type": "code",
   "execution_count": 5,
   "metadata": {
    "ExecuteTime": {
     "end_time": "2022-03-22T06:26:16.930759Z",
     "start_time": "2022-03-22T06:26:16.913078Z"
    }
   },
   "outputs": [
    {
     "name": "stdout",
     "output_type": "stream",
     "text": [
      "stat=0.733, p=0.002\n",
      "Probably dependent\n"
     ]
    }
   ],
   "source": [
    "# Example of the Kendall's Rank Correlation Test\n",
    "from scipy.stats import kendalltau\n",
    "data1 = [0.873, 2.817, 0.121, -0.945, -0.055, -1.436, 0.360, -1.478, -1.637, -1.869]\n",
    "data2 = [0.353, 3.517, 0.125, -7.545, -0.555, -1.536, 3.350, -1.578, -3.537, -1.579]\n",
    "stat, p = kendalltau(data1, data2)\n",
    "print('stat=%.3f, p=%.3f' % (stat, p))\n",
    "if p > 0.05:\n",
    "\tprint('Probably independent')\n",
    "else:\n",
    "\tprint('Probably dependent')"
   ]
  },
  {
   "cell_type": "markdown",
   "metadata": {},
   "source": [
    "#### 卡方检验(Chi-Squared Test)\n",
    "* 测试两个类别变量是相关还是独立。\n",
    "* 计算列联表时使用的观测值是独立的。\n",
    "* 列联表的每个单元格中有 25 个或更多示例。\n",
    "* 参考资料\n",
    "1. [A Gentle Introduction to the Chi-Squared Test for Machine Learning](https://machinelearningmastery.com/chi-squared-test-for-machine-learning/)\n",
    "2. [scipy.stats.chi2_contingency](https://docs.scipy.org/doc/scipy/reference/generated/scipy.stats.chi2_contingency.html)\n",
    "3. [Chi-Squared test on Wikipedia](https://en.wikipedia.org/wiki/Chi-squared_test)"
   ]
  },
  {
   "cell_type": "code",
   "execution_count": null,
   "metadata": {},
   "outputs": [],
   "source": [
    "# Example of the Chi-Squared Test\n",
    "from scipy.stats import chi2_contingency\n",
    "table = [[10, 20, 30],[6,  9,  17]]\n",
    "stat, p, dof, expected = chi2_contingency(table)\n",
    "print('stat=%.3f, p=%.3f' % (stat, p))\n",
    "if p > 0.05:\n",
    "\tprint('Probably independent')\n",
    "else:\n",
    "\tprint('Probably dependent')"
   ]
  },
  {
   "cell_type": "markdown",
   "metadata": {},
   "source": [
    "### 平稳性检验(Stationary Tests)(略)\n",
    "* 本节列出了可用于检查时间序列是否平稳的统计检验。\n",
    "* 增强型 Dickey-Fuller 单元根测试(Augmented Dickey-Fuller Unit Root Test)\n",
    "* Kwiatkowski-Phillips-Schmidt-Shin"
   ]
  },
  {
   "cell_type": "markdown",
   "metadata": {},
   "source": [
    "### 参数统计假设检验(Parametric Statistical Hypothesis Tests)\n",
    "* 本节列出了可用于比较数据样本的统计检验。"
   ]
  },
  {
   "cell_type": "markdown",
   "metadata": {},
   "source": [
    "#### Student’s t-test\n",
    "* 测试两个独立样本的均值是否显著不同。\n",
    "* 假设\n",
    "1. 每个样本中的观测值都是独立且分布相同的（iid）。\n",
    "2. 每个样本中的观测值呈正态分布。\n",
    "3. 每个样本中的观测值具有相同的方差。\n",
    "* 解释\n",
    "1. H0：样本的均值相等。\n",
    "2. H1：样本的均值不相等。\n",
    "* 参考资料\n",
    "1. [How to Calculate Parametric Statistical Hypothesis Tests in Python](https://machinelearningmastery.com/parametric-statistical-significance-tests-in-python/)\n",
    "2. [scipy.stats.ttest_ind](https://docs.scipy.org/doc/scipy/reference/generated/scipy.stats.ttest_ind.html)\n",
    "3. [Student’s t-test on Wikipedia](https://en.wikipedia.org/wiki/Student%27s_t-test)"
   ]
  },
  {
   "cell_type": "code",
   "execution_count": 6,
   "metadata": {
    "ExecuteTime": {
     "end_time": "2022-03-22T08:08:52.268064Z",
     "start_time": "2022-03-22T08:08:52.242639Z"
    }
   },
   "outputs": [
    {
     "name": "stdout",
     "output_type": "stream",
     "text": [
      "stat=-0.326, p=0.748\n",
      "Probably the same distribution\n"
     ]
    }
   ],
   "source": [
    "# Example of the Student's t-test\n",
    "from scipy.stats import ttest_ind\n",
    "data1 = [0.873, 2.817, 0.121, -0.945, -0.055, -1.436, 0.360, -1.478, -1.637, -1.869]\n",
    "data2 = [1.142, -0.432, -0.938, -0.729, -0.846, -0.157, 0.500, 1.183, -1.075, -0.169]\n",
    "stat, p = ttest_ind(data1, data2)\n",
    "print('stat=%.3f, p=%.3f' % (stat, p))\n",
    "if p > 0.05:\n",
    "\tprint('Probably the same distribution')\n",
    "else:\n",
    "\tprint('Probably different distributions')"
   ]
  },
  {
   "cell_type": "markdown",
   "metadata": {},
   "source": [
    "#### Paired Student’s t-test\n",
    "* 测试两个配对样本的均值是否显著不同。\n",
    "* 假设\n",
    "1. 每个样本中的观测值都是独立且分布相同的（iid）。\n",
    "2. 每个样本中的观测值呈正态分布。\n",
    "3. 每个样本中的观测值具有相同的方差。\n",
    "4. 每个样本的观测值是成对的。\n",
    "* 解释\n",
    "1. H0：样本的均值相等。\n",
    "2. H1：样本的均值不相等。\n",
    "* 参考资料\n",
    "1. [How to Calculate Parametric Statistical Hypothesis Tests in Python](https://machinelearningmastery.com/parametric-statistical-significance-tests-in-python/)\n",
    "2. [scipy.stats.ttest_rel](https://docs.scipy.org/doc/scipy/reference/generated/scipy.stats.ttest_rel.html)\n",
    "3. [Student’s t-test on Wikipedia](https://en.wikipedia.org/wiki/Student%27s_t-test)"
   ]
  },
  {
   "cell_type": "code",
   "execution_count": 7,
   "metadata": {
    "ExecuteTime": {
     "end_time": "2022-03-22T08:14:19.718522Z",
     "start_time": "2022-03-22T08:14:19.697335Z"
    }
   },
   "outputs": [
    {
     "name": "stdout",
     "output_type": "stream",
     "text": [
      "stat=-0.334, p=0.746\n",
      "Probably the same distribution\n"
     ]
    }
   ],
   "source": [
    "# Example of the Paired Student's t-test\n",
    "from scipy.stats import ttest_rel\n",
    "data1 = [0.873, 2.817, 0.121, -0.945, -0.055, -1.436, 0.360, -1.478, -1.637, -1.869]\n",
    "data2 = [1.142, -0.432, -0.938, -0.729, -0.846, -0.157, 0.500, 1.183, -1.075, -0.169]\n",
    "stat, p = ttest_rel(data1, data2)\n",
    "print('stat=%.3f, p=%.3f' % (stat, p))\n",
    "if p > 0.05:\n",
    "\tprint('Probably the same distribution')\n",
    "else:\n",
    "\tprint('Probably different distributions')"
   ]
  },
  {
   "cell_type": "markdown",
   "metadata": {},
   "source": [
    "#### 方差分析(Analysis of Variance Test,ANOVA)\n",
    "* 测试两个或多个独立样本的均值是否显著不同。\n",
    "* 假设\n",
    "1. 每个样本中的观测值都是独立且分布相同的（iid）。\n",
    "2. 每个样本中的观测值呈正态分布。\n",
    "3. 每个样本中的观测值具有相同的方差。\n",
    "* 解释\n",
    "1. H0：样本的均值相等。\n",
    "2. H1：样本的一个或多个均值不相等。\n",
    "* 参考资料\n",
    "1. [How to Calculate Parametric Statistical Hypothesis Tests in Python](https://machinelearningmastery.com/parametric-statistical-significance-tests-in-python/)\n",
    "2. [scipy.stats.f_oneway](https://docs.scipy.org/doc/scipy/reference/generated/scipy.stats.f_oneway.html)\n",
    "3. [Analysis of variance on Wikipedia](https://en.wikipedia.org/wiki/Analysis_of_variance)"
   ]
  },
  {
   "cell_type": "code",
   "execution_count": null,
   "metadata": {},
   "outputs": [],
   "source": [
    "# Example of the Analysis of Variance Test\n",
    "from scipy.stats import f_oneway\n",
    "data1 = [0.873, 2.817, 0.121, -0.945, -0.055, -1.436, 0.360, -1.478, -1.637, -1.869]\n",
    "data2 = [1.142, -0.432, -0.938, -0.729, -0.846, -0.157, 0.500, 1.183, -1.075, -0.169]\n",
    "data3 = [-0.208, 0.696, 0.928, -1.148, -0.213, 0.229, 0.137, 0.269, -0.870, -1.204]\n",
    "stat, p = f_oneway(data1, data2, data3)\n",
    "print('stat=%.3f, p=%.3f' % (stat, p))\n",
    "if p > 0.05:\n",
    "\tprint('Probably the same distribution')\n",
    "else:\n",
    "\tprint('Probably different distributions')"
   ]
  },
  {
   "cell_type": "markdown",
   "metadata": {},
   "source": [
    "#### 重复测量方差分析检验(Repeated Measures ANOVA Test)\n",
    "* 测试两个或多个配对样本的均值是否显著不同。\n",
    "* 假设\n",
    "1. 每个样本中的观测值都是独立且分布相同的（iid）。\n",
    "2. 每个样本中的观测值呈正态分布。\n",
    "3. 每个样本中的观测值具有相同的方差。\n",
    "4. 每个样本的观测值是成对的。\n",
    "* 解释\n",
    "1. H0：样本的均值相等。\n",
    "2. H1：样本的一个或多个均值不相等。\n",
    "* 参考资料\n",
    "1. [How to Calculate Parametric Statistical Hypothesis Tests in Python](https://machinelearningmastery.com/parametric-statistical-significance-tests-in-python/)\n",
    "2. [Analysis of variance on Wikipedia](https://en.wikipedia.org/wiki/Analysis_of_variance)"
   ]
  },
  {
   "cell_type": "code",
   "execution_count": null,
   "metadata": {
    "ExecuteTime": {
     "end_time": "2022-03-22T08:37:35.202437Z",
     "start_time": "2022-03-22T08:37:35.167489Z"
    }
   },
   "outputs": [],
   "source": [
    "# scipy 没有相关模块，但 statsmodels.stats.anova 模块有相应功能\n",
    "# 本例参考 https://www.statology.org/repeated-measures-anova-python/\n",
    "# 参考 https://www.marsja.se/repeated-measures-anova-in-python-using-statsmodels/\n",
    "import numpy as np\n",
    "import pandas as pd\n",
    "\n",
    "#create data\n",
    "df = pd.DataFrame({'patient': np.repeat([1, 2, 3, 4, 5], 4),\n",
    "                   'drug': np.tile([1, 2, 3, 4], 5),\n",
    "                   'response': [30, 28, 16, 34,\n",
    "                                14, 18, 10, 22,\n",
    "                                24, 20, 18, 30,\n",
    "                                38, 34, 20, 44, \n",
    "                                26, 28, 14, 30]})\n",
    "\n",
    "#view first ten rows of data \n",
    "print(df.head(10))\n",
    "\n",
    "from statsmodels.stats.anova import AnovaRM\n",
    "\n",
    "#perform the repeated measures ANOVA\n",
    "print(AnovaRM(data=df, depvar='response', subject='patient', within=['drug']).fit())"
   ]
  },
  {
   "cell_type": "markdown",
   "metadata": {},
   "source": [
    "### 非参数统计假设检验(Nonparametric Statistical Hypothesis Tests)\n"
   ]
  },
  {
   "cell_type": "markdown",
   "metadata": {},
   "source": [
    "#### 曼惠特尼U检验(Mann-Whitney U Test)\n",
    "* 测试两个独立样本的分布是否相等。\n",
    "* 假设\n",
    "1. 每个样本中的观测值都是独立且分布相同的（iid）。\n",
    "2. 可以对每个样本中的观测值进行排名。\n",
    "* 解释\n",
    "1. H0：两个样本的分布相等。\n",
    "2. H1：两个样本的分布不相等。\n",
    "* 参考资料\n",
    "1. [How to Calculate Nonparametric Statistical Hypothesis Tests in Python](https://machinelearningmastery.com/nonparametric-statistical-significance-tests-in-python/)\n",
    "2. [scipy.stats.mannwhitneyu](https://docs.scipy.org/doc/scipy/reference/generated/scipy.stats.mannwhitneyu.html)\n",
    "3. [Mann-Whitney U test on Wikipedia](https://en.wikipedia.org/wiki/Mann%E2%80%93Whitney_U_test)"
   ]
  },
  {
   "cell_type": "code",
   "execution_count": 1,
   "metadata": {
    "ExecuteTime": {
     "end_time": "2022-03-22T08:51:53.406877Z",
     "start_time": "2022-03-22T08:51:50.927947Z"
    }
   },
   "outputs": [
    {
     "name": "stdout",
     "output_type": "stream",
     "text": [
      "stat=40.000, p=0.473\n",
      "Probably the same distribution\n"
     ]
    }
   ],
   "source": [
    "# Example of the Mann-Whitney U Test\n",
    "from scipy.stats import mannwhitneyu\n",
    "data1 = [0.873, 2.817, 0.121, -0.945, -0.055, -1.436, 0.360, -1.478, -1.637, -1.869]\n",
    "data2 = [1.142, -0.432, -0.938, -0.729, -0.846, -0.157, 0.500, 1.183, -1.075, -0.169]\n",
    "stat, p = mannwhitneyu(data1, data2)\n",
    "print('stat=%.3f, p=%.3f' % (stat, p))\n",
    "if p > 0.05:\n",
    "\tprint('Probably the same distribution')\n",
    "else:\n",
    "\tprint('Probably different distributions')"
   ]
  },
  {
   "cell_type": "markdown",
   "metadata": {},
   "source": [
    "#### 威尔科克森符号秩检验(Wilcoxon Signed-Rank Test)\n",
    "* 测试两个配对样本的分布是否相等。\n",
    "* 假设\n",
    "1. 每个样本中的观测值都是独立且分布相同的（iid）。\n",
    "2. 可以对每个样本中的观测值进行排名。\n",
    "3. 每个样本的观测值是成对的。\n",
    "* 解释\n",
    "1. H0：两个样本的分布相等。\n",
    "2. H1：两个样本的分布不相等。\n",
    "* 参考资料\n",
    "1. [How to Calculate Nonparametric Statistical Hypothesis Tests in Python](https://machinelearningmastery.com/nonparametric-statistical-significance-tests-in-python/)\n",
    "2. [scipy.stats.wilcoxon](https://docs.scipy.org/doc/scipy/reference/generated/scipy.stats.wilcoxon.html)\n",
    "3. [Wilcoxon signed-rank test on Wikipedia](https://en.wikipedia.org/wiki/Wilcoxon_signed-rank_test)"
   ]
  },
  {
   "cell_type": "code",
   "execution_count": 2,
   "metadata": {
    "ExecuteTime": {
     "end_time": "2022-03-22T08:57:32.819671Z",
     "start_time": "2022-03-22T08:57:32.806443Z"
    }
   },
   "outputs": [
    {
     "name": "stdout",
     "output_type": "stream",
     "text": [
      "stat=21.000, p=0.557\n",
      "Probably the same distribution\n"
     ]
    }
   ],
   "source": [
    "# Example of the Wilcoxon Signed-Rank Test\n",
    "from scipy.stats import wilcoxon\n",
    "data1 = [0.873, 2.817, 0.121, -0.945, -0.055, -1.436, 0.360, -1.478, -1.637, -1.869]\n",
    "data2 = [1.142, -0.432, -0.938, -0.729, -0.846, -0.157, 0.500, 1.183, -1.075, -0.169]\n",
    "stat, p = wilcoxon(data1, data2)\n",
    "print('stat=%.3f, p=%.3f' % (stat, p))\n",
    "if p > 0.05:\n",
    "\tprint('Probably the same distribution')\n",
    "else:\n",
    "\tprint('Probably different distributions')"
   ]
  },
  {
   "cell_type": "markdown",
   "metadata": {},
   "source": [
    "#### 克鲁斯卡尔-沃利斯检验(Kruskal-Wallis H Test)\n",
    "* 测试两个或多个独立样本的分布是否相等。\n",
    "* 假设\n",
    "1. 每个样本中的观测值都是独立且分布相同的（iid）。\n",
    "2. 可以对每个样本中的观测值进行排名。\n",
    "* 解释\n",
    "1. H0：所有样本的分布都相等。\n",
    "2. H1：一个或多个样本的分布不相等。\n",
    "* 参考资料\n",
    "1. [How to Calculate Nonparametric Statistical Hypothesis Tests in Python](https://machinelearningmastery.com/nonparametric-statistical-significance-tests-in-python/)\n",
    "2. [scipy.stats.kruskal](https://docs.scipy.org/doc/scipy/reference/generated/scipy.stats.kruskal.html)\n",
    "3. [Kruskal-Wallis one-way analysis of variance on Wikipedia](https://en.wikipedia.org/wiki/Kruskal%E2%80%93Wallis_one-way_analysis_of_variance)"
   ]
  },
  {
   "cell_type": "code",
   "execution_count": null,
   "metadata": {},
   "outputs": [],
   "source": [
    "from scipy.stats import kruskal\n",
    "data1 = [0.873, 2.817, 0.121, -0.945, -0.055, -1.436, 0.360, -1.478, -1.637, -1.869]\n",
    "data2 = [1.142, -0.432, -0.938, -0.729, -0.846, -0.157, 0.500, 1.183, -1.075, -0.169]\n",
    "stat, p = kruskal(data1, data2)\n",
    "print('stat=%.3f, p=%.3f' % (stat, p))\n",
    "if p > 0.05:\n",
    "\tprint('Probably the same distribution')\n",
    "else:\n",
    "\tprint('Probably different distributions')"
   ]
  },
  {
   "cell_type": "markdown",
   "metadata": {},
   "source": [
    "#### 弗里德曼检验(Friedman Test)\n",
    "* 测试两个或多个配对样本的分布是否相等。\n",
    "* 假设\n",
    "1. 每个样本中的观测值都是独立且分布相同的（iid）。\n",
    "2. 可以对每个样本中的观测值进行排名。\n",
    "3. 每个样本的观测值是成对的。\n",
    "* 解释\n",
    "1. H0：所有样本的分布都相等。\n",
    "2. H1：一个或多个样本的分布不相等。\n",
    "* 参考资料\n",
    "1. [How to Calculate Nonparametric Statistical Hypothesis Tests in Python](https://machinelearningmastery.com/nonparametric-statistical-significance-tests-in-python/)\n",
    "2. [scipy.stats.friedmanchisquare](https://docs.scipy.org/doc/scipy/reference/generated/scipy.stats.kruskal.html)\n",
    "3. [Friedman test on Wikipedia](https://en.wikipedia.org/wiki/Friedman_test)"
   ]
  },
  {
   "cell_type": "code",
   "execution_count": null,
   "metadata": {},
   "outputs": [],
   "source": [
    "# Example of the Friedman Test\n",
    "from scipy.stats import friedmanchisquare\n",
    "data1 = [0.873, 2.817, 0.121, -0.945, -0.055, -1.436, 0.360, -1.478, -1.637, -1.869]\n",
    "data2 = [1.142, -0.432, -0.938, -0.729, -0.846, -0.157, 0.500, 1.183, -1.075, -0.169]\n",
    "data3 = [-0.208, 0.696, 0.928, -1.148, -0.213, 0.229, 0.137, 0.269, -0.870, -1.204]\n",
    "stat, p = friedmanchisquare(data1, data2, data3)\n",
    "print('stat=%.3f, p=%.3f' % (stat, p))\n",
    "if p > 0.05:\n",
    "\tprint('Probably the same distribution')\n",
    "else:\n",
    "\tprint('Probably different distributions')"
   ]
  }
 ],
 "metadata": {
  "kernelspec": {
   "display_name": "Python 3 (ipykernel)",
   "language": "python",
   "name": "python3"
  },
  "language_info": {
   "codemirror_mode": {
    "name": "ipython",
    "version": 3
   },
   "file_extension": ".py",
   "mimetype": "text/x-python",
   "name": "python",
   "nbconvert_exporter": "python",
   "pygments_lexer": "ipython3",
   "version": "3.9.7"
  }
 },
 "nbformat": 4,
 "nbformat_minor": 5
}
