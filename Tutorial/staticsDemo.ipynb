{
 "cells": [
  {
   "cell_type": "markdown",
   "id": "d57d612b",
   "metadata": {},
   "source": [
    "# Python 下的统计分析——coding 实现SPSS的自动化分析任务\n",
    "* collected and edited by 江锋 \n",
    "* 2022.03.22\n",
    "* SPSS分析时，需要人工设置设置数据，当有大量数据需要操作时，效率不够高，其次，若数据更新后，更新相关统计分析的结果时的操作更是繁杂。\n",
    "* 偷懒的惰性促使我们需要找到更有效率的工具。\n",
    "* 搜索了下Python下的统计分析工具，在不少package里面都发现了相应的工具，这里简单汇总并简单测试下。"
   ]
  },
  {
   "cell_type": "markdown",
   "id": "cbec0fd7",
   "metadata": {},
   "source": [
    "## 一、Python工具包对比\n",
    "### 1. pandas及numpy \n",
    "* 以下库的最底层依赖包，具有部分统计功能，这里不作介绍。\n",
    "* 参考[NumPy, SciPy, and Pandas: Correlation With Python](https://realpython.com/numpy-scipy-pandas-correlation-python/#correlation)\n",
    "### 2. Scipy.stats\n",
    "* [Scipy.stats](https://docs.scipy.org/doc/scipy/reference/stats.html)模块包含大量概率分布、汇总和频率统计、相关函数和统计检验、掩蔽统计、核密度估计、准蒙特卡洛函数等，目前最新版本1.8.0.输出较为简洁。\n",
    "* 强烈推荐阅读[官方文档](https://docs.scipy.org/doc/scipy/reference/stats.html)及[官方教程](https://docs.scipy.org/doc/scipy/tutorial/stats.html)，可参考国内[博客](https://blog.csdn.net/pipisorry/article/details/49515215)\n",
    "* 下面以常用的统计分析方法在scipy下的api使用给出范例，参考[17 Statistical Hypothesis Tests in Python](https://machinelearningmastery.com/statistical-hypothesis-tests-in-python-cheat-sheet/)\n",
    "### 3. Statsmodels\n",
    "* [statsmodels](http://www.statsmodels.org)是一个Python库，依赖Scipy.stats等包实现，用于拟合多种统计模型，执行统计测试以及数据探索和可视化，目前最新版本0.13.2.有统计图形输出功能。\n",
    "### 4. Pingouin\n",
    "* [Pingouin](https://pingouin-stats.org/#)是一个最新的完全基于Python3实现的依赖Scipy及Statsmodels等包的统计库。最新版本0.5.1.有统计图形输出功能。\n",
    "### 5. 功能对比与小结\n",
    "* Scipy.stats的统计结果最为简洁，输出最为简单，而剩下的几个工具包在其基础上进行了进一步的封装，不论是统计的输出或者输出结果的展示等方面都有着进一步的提升。\n",
    "* 参考[Statistics with SciPy, Statsmodels, and Pingouin](https://python.cogsci.nl/numerical/statistics/)\n",
    "### 6. 其他重要参考文献\n",
    "* [Statistics in Python](https://www.reneshbedre.com/tags/#statistics)"
   ]
  },
  {
   "cell_type": "markdown",
   "id": "ab727d57",
   "metadata": {},
   "source": [
    "## 二、统计分析检验工具选择\n",
    "* 下图均来自pingouin的[guideline](https://pingouin-stats.org/guidelines.html)页面。\n",
    "### 1. 方差分析(ANOVA)\n",
    "![anova](https://pingouin-stats.org/_images/flowchart_one_way_ANOVA.svg)\n",
    "### 2. 相关性分析(Correlation)\n",
    "![corelation](https://pingouin-stats.org/_images/flowchart_correlations.svg)\n",
    "### 3. 非参数检验(Non-parametric)\n",
    "![Non-parametric](https://pingouin-stats.org/_images/flowchart_nonparametric.svg)"
   ]
  },
  {
   "cell_type": "markdown",
   "id": "8e846dc0",
   "metadata": {},
   "source": [
    "## 三、课题组此前项目使用过的统计分析工具\n",
    "* 陈婉琳的博士课题《基于光电容积脉搏波的全身麻醉镇痛水平检测的研究》中使用过Kruskal-Wallis H Test、Wilcoxon Signed-Rank Test、Mann-Whitney U Test及Spearman’s Rank Correlation等工具"
   ]
  },
  {
   "cell_type": "markdown",
   "id": "98a581ac",
   "metadata": {},
   "source": [
    "## 四、具体分析工具及Code Demo"
   ]
  },
  {
   "cell_type": "markdown",
   "id": "91c9c418",
   "metadata": {},
   "source": [
    "### 1. 正态性检验\n",
    "* 本部分列出了可用于检查数据是否具有高斯分布的统计检验"
   ]
  },
  {
   "cell_type": "markdown",
   "id": "cebe193d",
   "metadata": {},
   "source": [
    "#### A. 夏皮罗-威尔克检验(Shapiro-Wilk Test)\n",
    "* 目的\n",
    "    * 测试数据样本是否具有高斯分布。\n",
    "* 假设\n",
    "    * 每个样本中的观测值都是独立且分布相同的(independent and identically distributed, IID)。\n",
    "* 猜想\n",
    "    * H0：样本具有高斯分布。\n",
    "    * H1：样本没有高斯分布。\n",
    "* 参考资料\n",
    "    * [A Gentle Introduction to Normality Tests in Python](https://machinelearningmastery.com/a-gentle-introduction-to-normality-tests-in-python/)\n",
    "    * [scipy.stats.shapiro](https://docs.scipy.org/doc/scipy/reference/generated/scipy.stats.shapiro.html)\n",
    "    * [Shapiro-Wilk test on Wikipedia](https://en.wikipedia.org/wiki/Shapiro%E2%80%93Wilk_test)\n",
    "    * [国内博客](https://blog.csdn.net/lvsehaiyang1993/article/details/80473265)"
   ]
  },
  {
   "cell_type": "code",
   "execution_count": 4,
   "id": "0cea3f16",
   "metadata": {
    "ExecuteTime": {
     "end_time": "2022-03-22T13:11:03.327874Z",
     "start_time": "2022-03-22T13:11:03.318355Z"
    }
   },
   "outputs": [
    {
     "name": "stdout",
     "output_type": "stream",
     "text": [
      "stat=0.895, p=0.193\n",
      "Probably Gaussian\n"
     ]
    }
   ],
   "source": [
    "# Example of the Shapiro-Wilk Normality Test\n",
    "from scipy.stats import shapiro\n",
    "data = [0.873, 2.817, 0.121, -0.945, -0.055, -1.436, 0.360, -1.478, -1.637, -1.869]\n",
    "stat, p = shapiro(data)\n",
    "print('stat=%.3f, p=%.3f' % (stat, p))\n",
    "if p > 0.05:\n",
    "\tprint('Probably Gaussian')\n",
    "else:\n",
    "\tprint('Probably not Gaussian')"
   ]
  },
  {
   "cell_type": "markdown",
   "id": "d37476b3",
   "metadata": {},
   "source": [
    "#### B. D’Agostino’s K^2 Test(没找到中文翻译)\n",
    "* 目的\n",
    "    * 测试数据样本是否具有高斯分布。\n",
    "* 假设\n",
    "    * 每个样本中的观测值都是独立且分布相同的(independent and identically distributed, IID)。\n",
    "* 猜想\n",
    "    * H0：样本具有高斯分布。\n",
    "    * H1：样本没有高斯分布。\n",
    "* 参考资料\n",
    "    * [A Gentle Introduction to Normality Tests in Python](https://machinelearningmastery.com/a-gentle-introduction-to-normality-tests-in-python/)\n",
    "    * [scipy.stats.normaltest](https://docs.scipy.org/doc/scipy/reference/generated/scipy.stats.normaltest.html)\n",
    "    * [D’Agostino’s K-squared test on Wikipedia](https://en.wikipedia.org/wiki/D%27Agostino%27s_K-squared_test)"
   ]
  },
  {
   "cell_type": "code",
   "execution_count": 19,
   "id": "87b67676",
   "metadata": {
    "ExecuteTime": {
     "end_time": "2022-03-22T13:14:15.913939Z",
     "start_time": "2022-03-22T13:14:15.903924Z"
    }
   },
   "outputs": [
    {
     "name": "stdout",
     "output_type": "stream",
     "text": [
      "stat=3.392, p=0.183\n",
      "Probably Gaussian\n"
     ]
    },
    {
     "name": "stderr",
     "output_type": "stream",
     "text": [
      "C:\\Environment\\Python\\Python39\\lib\\site-packages\\scipy\\stats\\_stats_py.py:1477: UserWarning: kurtosistest only valid for n>=20 ... continuing anyway, n=10\n",
      "  warnings.warn(\"kurtosistest only valid for n>=20 ... continuing \"\n"
     ]
    }
   ],
   "source": [
    "# Example of the D'Agostino's K^2 Normality Test\n",
    "from scipy.stats import normaltest\n",
    "data = [0.873, 2.817, 0.121, -0.945, -0.055, -1.436, 0.360, -1.478, -1.637, -1.869]\n",
    "stat, p = normaltest(data)\n",
    "print('stat=%.3f, p=%.3f' % (stat, p))\n",
    "if p > 0.05:\n",
    "\tprint('Probably Gaussian')\n",
    "else:\n",
    "\tprint('Probably not Gaussian')"
   ]
  },
  {
   "cell_type": "markdown",
   "id": "a19fe5ab",
   "metadata": {},
   "source": [
    "#### C. 安德森-达令检验(Anderson-Darling Test)\n",
    "* 目的\n",
    "    * 测试数据样本是否具有高斯分布。\n",
    "* 假设\n",
    "    * 每个样本中的观测值都是独立且分布相同的(independent and identically distributed, IID)。\n",
    "* 猜想\n",
    "    * H0：样本具有高斯分布。\n",
    "    * H1：样本没有高斯分布。\n",
    "* 参考资料\n",
    "    *. [A Gentle Introduction to Normality Tests in Python](https://machinelearningmastery.com/a-gentle-introduction-to-normality-tests-in-python/)\n",
    "    *. [scipy.stats.anderson](https://docs.scipy.org/doc/scipy/reference/generated/scipy.stats.anderson.html)\n",
    "    *. [Anderson-Darling test on Wikipedia](https://en.wikipedia.org/wiki/Anderson%E2%80%93Darling_test)"
   ]
  },
  {
   "cell_type": "code",
   "execution_count": 6,
   "id": "83ec4035",
   "metadata": {
    "ExecuteTime": {
     "end_time": "2022-03-22T13:11:03.387979Z",
     "start_time": "2022-03-22T13:11:03.374975Z"
    }
   },
   "outputs": [
    {
     "name": "stdout",
     "output_type": "stream",
     "text": [
      "stat=0.424\n",
      "Probably Gaussian at the 15.0% level\n",
      "Probably Gaussian at the 10.0% level\n",
      "Probably Gaussian at the 5.0% level\n",
      "Probably Gaussian at the 2.5% level\n",
      "Probably Gaussian at the 1.0% level\n"
     ]
    }
   ],
   "source": [
    "# Example of the Anderson-Darling Normality Test\n",
    "from scipy.stats import anderson\n",
    "data = [0.873, 2.817, 0.121, -0.945, -0.055, -1.436, 0.360, -1.478, -1.637, -1.869]\n",
    "result = anderson(data)\n",
    "print('stat=%.3f' % (result.statistic))\n",
    "for i in range(len(result.critical_values)):\n",
    "\tsl, cv = result.significance_level[i], result.critical_values[i]\n",
    "\tif result.statistic < cv:\n",
    "\t\tprint('Probably Gaussian at the %.1f%% level' % (sl))\n",
    "\telse:\n",
    "\t\tprint('Probably not Gaussian at the %.1f%% level' % (sl))"
   ]
  },
  {
   "cell_type": "markdown",
   "id": "3c9525eb",
   "metadata": {},
   "source": [
    "### 2. 相关性检验"
   ]
  },
  {
   "cell_type": "markdown",
   "id": "da165fe6",
   "metadata": {},
   "source": [
    "#### A. 皮尔逊相关系数(Pearson’s Correlation Coefficient)\n",
    "* 目的\n",
    "    * 测试两个样本是否具有线性关系。\n",
    "* 假设\n",
    "    * 每个样本中的观测值都是独立且分布相同的（iid）。\n",
    "    * 每个样本中的观测值呈正态分布。\n",
    "    * 每个样本中的观测值具有相同的方差。\n",
    "* 猜想\n",
    "    * H0：两个样本是独立的。\n",
    "    * H1：样本之间存在依赖关系。\n",
    "* 参考资料\n",
    "    * [How to Calculate Correlation Between Variables in Python](https://machinelearningmastery.com/how-to-use-correlation-to-understand-the-relationship-between-variables/)\n",
    "    * [scipy.stats.pearsonr](https://docs.scipy.org/doc/scipy/reference/generated/scipy.stats.pearsonr.html)\n",
    "    * [Pearson’s correlation coefficient on Wikipedia](https://en.wikipedia.org/wiki/Pearson_correlation_coefficient)"
   ]
  },
  {
   "cell_type": "code",
   "execution_count": 7,
   "id": "e085b802",
   "metadata": {
    "ExecuteTime": {
     "end_time": "2022-03-22T13:11:03.403396Z",
     "start_time": "2022-03-22T13:11:03.390383Z"
    }
   },
   "outputs": [
    {
     "name": "stdout",
     "output_type": "stream",
     "text": [
      "stat=0.688, p=0.028\n",
      "Probably dependent\n"
     ]
    }
   ],
   "source": [
    "# Example of the Pearson's Correlation test\n",
    "from scipy.stats import pearsonr\n",
    "data1 = [0.873, 2.817, 0.121, -0.945, -0.055, -1.436, 0.360, -1.478, -1.637, -1.869]\n",
    "data2 = [0.353, 3.517, 0.125, -7.545, -0.555, -1.536, 3.350, -1.578, -3.537, -1.579]\n",
    "stat, p = pearsonr(data1, data2)\n",
    "print('stat=%.3f, p=%.3f' % (stat, p))\n",
    "if p > 0.05:\n",
    "\tprint('Probably independent')\n",
    "else:\n",
    "\tprint('Probably dependent')"
   ]
  },
  {
   "cell_type": "markdown",
   "id": "d948895c",
   "metadata": {},
   "source": [
    "#### B. 斯皮尔曼等级相关系数(Spearman’s Rank Correlation)\n",
    "* 目的\n",
    "    * 测试两个样本是否具有单调关系。\n",
    "* 假设\n",
    "    * 每个样本中的观测值都是独立且分布相同的(independent and identically distributed, IID)。\n",
    "    * 可以对每个样本中的观测值进行排名。\n",
    "* 猜想\n",
    "    * H0：两个样本是独立的。\n",
    "    * H1：样本之间存在依赖关系。\n",
    "* 参考资料\n",
    "    * [How to Calculate Nonparametric Rank Correlation in Python](https://machinelearningmastery.com/how-to-calculate-nonparametric-rank-correlation-in-python/)\n",
    "    * [scipy.stats.spearmanr](https://docs.scipy.org/doc/scipy/reference/generated/scipy.stats.spearmanr.html)\n",
    "    * [Spearman’s rank correlation coefficient on Wikipedia](https://en.wikipedia.org/wiki/Spearman%27s_rank_correlation_coefficient)"
   ]
  },
  {
   "cell_type": "code",
   "execution_count": 8,
   "id": "1315495b",
   "metadata": {
    "ExecuteTime": {
     "end_time": "2022-03-22T13:11:03.419674Z",
     "start_time": "2022-03-22T13:11:03.405271Z"
    }
   },
   "outputs": [
    {
     "name": "stdout",
     "output_type": "stream",
     "text": [
      "stat=0.855, p=0.002\n",
      "Probably dependent\n"
     ]
    }
   ],
   "source": [
    "# Example of the Spearman's Rank Correlation Test\n",
    "from scipy.stats import spearmanr\n",
    "data1 = [0.873, 2.817, 0.121, -0.945, -0.055, -1.436, 0.360, -1.478, -1.637, -1.869]\n",
    "data2 = [0.353, 3.517, 0.125, -7.545, -0.555, -1.536, 3.350, -1.578, -3.537, -1.579]\n",
    "stat, p = spearmanr(data1, data2)\n",
    "print('stat=%.3f, p=%.3f' % (stat, p))\n",
    "if p > 0.05:\n",
    "\tprint('Probably independent')\n",
    "else:\n",
    "\tprint('Probably dependent')"
   ]
  },
  {
   "cell_type": "markdown",
   "id": "2d14c970",
   "metadata": {},
   "source": [
    "#### C. 肯德尔等级系数(Kendall’s Rank Correlation)\n",
    "* 目的\n",
    "    * 测试两个样本是否具有单调关系。\n",
    "* 假设\n",
    "    * 每个样本中的观测值都是独立且分布相同的(independent and identically distributed, IID)。\n",
    "    * 可以对每个样本中的观测值进行排名。\n",
    "* 猜想\n",
    "    * H0：两个样本是独立的。\n",
    "    * H1：样本之间存在依赖关系。\n",
    "* 参考资料\n",
    "    * [How to Calculate Nonparametric Rank Correlation in Python](https://machinelearningmastery.com/how-to-calculate-nonparametric-rank-correlation-in-python/)\n",
    "    * [scipy.stats.kendalltau](https://docs.scipy.org/doc/scipy/reference/generated/scipy.stats.kendalltau.html)\n",
    "    * [Kendall rank correlation coefficient on Wikipedia](https://en.wikipedia.org/wiki/Kendall_rank_correlation_coefficient)"
   ]
  },
  {
   "cell_type": "code",
   "execution_count": 9,
   "id": "1ad7673b",
   "metadata": {
    "ExecuteTime": {
     "end_time": "2022-03-22T13:11:03.434178Z",
     "start_time": "2022-03-22T13:11:03.424146Z"
    }
   },
   "outputs": [
    {
     "name": "stdout",
     "output_type": "stream",
     "text": [
      "stat=0.733, p=0.002\n",
      "Probably dependent\n"
     ]
    }
   ],
   "source": [
    "# Example of the Kendall's Rank Correlation Test\n",
    "from scipy.stats import kendalltau\n",
    "data1 = [0.873, 2.817, 0.121, -0.945, -0.055, -1.436, 0.360, -1.478, -1.637, -1.869]\n",
    "data2 = [0.353, 3.517, 0.125, -7.545, -0.555, -1.536, 3.350, -1.578, -3.537, -1.579]\n",
    "stat, p = kendalltau(data1, data2)\n",
    "print('stat=%.3f, p=%.3f' % (stat, p))\n",
    "if p > 0.05:\n",
    "\tprint('Probably independent')\n",
    "else:\n",
    "\tprint('Probably dependent')"
   ]
  },
  {
   "cell_type": "markdown",
   "id": "bb96c81a",
   "metadata": {},
   "source": [
    "#### D. 卡方检验(Chi-Squared Test)\n",
    "* 目的\n",
    "    * 测试两个类别变量是相关还是独立。\n",
    "* 假设\n",
    "    * 计算列联表时使用的观测值是独立的。\n",
    "    * 列联表的每个单元格中有 25 个或更多示例。\n",
    "* 猜想\n",
    "    * H0：两个样本是独立的。\n",
    "    * H1：样本之间存在依赖关系。\n",
    "* 参考资料\n",
    "    * [A Gentle Introduction to the Chi-Squared Test for Machine Learning](https://machinelearningmastery.com/chi-squared-test-for-machine-learning/)\n",
    "    * [scipy.stats.chi2_contingency](https://docs.scipy.org/doc/scipy/reference/generated/scipy.stats.chi2_contingency.html)\n",
    "    * [Chi-Squared test on Wikipedia](https://en.wikipedia.org/wiki/Chi-squared_test)"
   ]
  },
  {
   "cell_type": "code",
   "execution_count": 10,
   "id": "f8bb9f34",
   "metadata": {
    "ExecuteTime": {
     "end_time": "2022-03-22T13:11:03.449591Z",
     "start_time": "2022-03-22T13:11:03.436564Z"
    }
   },
   "outputs": [
    {
     "name": "stdout",
     "output_type": "stream",
     "text": [
      "stat=0.272, p=0.873\n",
      "Probably independent\n"
     ]
    }
   ],
   "source": [
    "# Example of the Chi-Squared Test\n",
    "from scipy.stats import chi2_contingency\n",
    "table = [[10, 20, 30],[6,  9,  17]]\n",
    "stat, p, dof, expected = chi2_contingency(table)\n",
    "print('stat=%.3f, p=%.3f' % (stat, p))\n",
    "if p > 0.05:\n",
    "\tprint('Probably independent')\n",
    "else:\n",
    "\tprint('Probably dependent')"
   ]
  },
  {
   "cell_type": "markdown",
   "id": "848ed766",
   "metadata": {},
   "source": [
    "### 3. 平稳性检验(Stationary Tests)(略)\n",
    "* 本节列出了可用于检查时间序列是否平稳的统计检验。\n",
    "#### A. 增强型 Dickey-Fuller 单元根测试(Augmented Dickey-Fuller Unit Root Test)\n",
    "#### B. Kwiatkowski-Phillips-Schmidt-Shin"
   ]
  },
  {
   "cell_type": "markdown",
   "id": "bf163cec",
   "metadata": {},
   "source": [
    "### 4. 参数统计假设检验(Parametric Statistical Hypothesis Tests)\n",
    "* 本节列出了可用于比较数据样本的统计检验。"
   ]
  },
  {
   "cell_type": "markdown",
   "id": "c1a36030",
   "metadata": {},
   "source": [
    "#### A. Student’s t-test\n",
    "* 目的\n",
    "    * 测试两个独立样本的均值是否显著不同。\n",
    "* 假设\n",
    "    * 每个样本中的观测值都是独立且分布相同的（iid）。\n",
    "    * 每个样本中的观测值呈正态分布。\n",
    "    * 每个样本中的观测值具有相同的方差。\n",
    "* 猜想\n",
    "    * H0：样本的均值相等。\n",
    "    * H1：样本的均值不相等。\n",
    "* 参考资料\n",
    "    * [How to Calculate Parametric Statistical Hypothesis Tests in Python](https://machinelearningmastery.com/parametric-statistical-significance-tests-in-python/)\n",
    "    * [scipy.stats.ttest_ind](https://docs.scipy.org/doc/scipy/reference/generated/scipy.stats.ttest_ind.html)\n",
    "    * [Student’s t-test on Wikipedia](https://en.wikipedia.org/wiki/Student%27s_t-test)"
   ]
  },
  {
   "cell_type": "code",
   "execution_count": 11,
   "id": "16a1bad4",
   "metadata": {
    "ExecuteTime": {
     "end_time": "2022-03-22T13:11:03.465042Z",
     "start_time": "2022-03-22T13:11:03.451461Z"
    }
   },
   "outputs": [
    {
     "name": "stdout",
     "output_type": "stream",
     "text": [
      "stat=-0.326, p=0.748\n",
      "Probably the same distribution\n"
     ]
    }
   ],
   "source": [
    "# Example of the Student's t-test\n",
    "from scipy.stats import ttest_ind\n",
    "data1 = [0.873, 2.817, 0.121, -0.945, -0.055, -1.436, 0.360, -1.478, -1.637, -1.869]\n",
    "data2 = [1.142, -0.432, -0.938, -0.729, -0.846, -0.157, 0.500, 1.183, -1.075, -0.169]\n",
    "stat, p = ttest_ind(data1, data2)\n",
    "print('stat=%.3f, p=%.3f' % (stat, p))\n",
    "if p > 0.05:\n",
    "\tprint('Probably the same distribution')\n",
    "else:\n",
    "\tprint('Probably different distributions')"
   ]
  },
  {
   "cell_type": "markdown",
   "id": "d9efe207",
   "metadata": {},
   "source": [
    "#### B. Paired Student’s t-test\n",
    "* 目的\n",
    "    * 测试两个配对样本的均值是否显著不同。\n",
    "* 假设\n",
    "    * 每个样本中的观测值都是独立且分布相同的（iid）。\n",
    "    * 每个样本中的观测值呈正态分布。\n",
    "    * 每个样本中的观测值具有相同的方差。\n",
    "    * 每个样本的观测值是成对的。\n",
    "* 猜想\n",
    "    * H0：样本的均值相等。\n",
    "    * H1：样本的均值不相等。\n",
    "* 参考资料\n",
    "    * [How to Calculate Parametric Statistical Hypothesis Tests in Python](https://machinelearningmastery.com/parametric-statistical-significance-tests-in-python/)\n",
    "    * [scipy.stats.ttest_rel](https://docs.scipy.org/doc/scipy/reference/generated/scipy.stats.ttest_rel.html)\n",
    "    * [Student’s t-test on Wikipedia](https://en.wikipedia.org/wiki/Student%27s_t-test)"
   ]
  },
  {
   "cell_type": "code",
   "execution_count": 12,
   "id": "9f6456bb",
   "metadata": {
    "ExecuteTime": {
     "end_time": "2022-03-22T13:11:03.480426Z",
     "start_time": "2022-03-22T13:11:03.466945Z"
    }
   },
   "outputs": [
    {
     "name": "stdout",
     "output_type": "stream",
     "text": [
      "stat=-0.334, p=0.746\n",
      "Probably the same distribution\n"
     ]
    }
   ],
   "source": [
    "# Example of the Paired Student's t-test\n",
    "from scipy.stats import ttest_rel\n",
    "data1 = [0.873, 2.817, 0.121, -0.945, -0.055, -1.436, 0.360, -1.478, -1.637, -1.869]\n",
    "data2 = [1.142, -0.432, -0.938, -0.729, -0.846, -0.157, 0.500, 1.183, -1.075, -0.169]\n",
    "stat, p = ttest_rel(data1, data2)\n",
    "print('stat=%.3f, p=%.3f' % (stat, p))\n",
    "if p > 0.05:\n",
    "\tprint('Probably the same distribution')\n",
    "else:\n",
    "\tprint('Probably different distributions')"
   ]
  },
  {
   "cell_type": "markdown",
   "id": "29a6fef1",
   "metadata": {},
   "source": [
    "#### C. 方差分析(Analysis of Variance Test,ANOVA)\n",
    "* 目的\n",
    "    * 测试两个或多个独立样本的均值是否显著不同。\n",
    "* 假设\n",
    "    * 每个样本中的观测值都是独立且分布相同的（iid）。\n",
    "    * 每个样本中的观测值呈正态分布。\n",
    "    * 每个样本中的观测值具有相同的方差。\n",
    "* 猜想\n",
    "    * H0：样本的均值相等。\n",
    "    * H1：样本的一个或多个均值不相等。\n",
    "* 参考资料\n",
    "    * [How to Calculate Parametric Statistical Hypothesis Tests in Python](https://machinelearningmastery.com/parametric-statistical-significance-tests-in-python/)\n",
    "    * [scipy.stats.f_oneway](https://docs.scipy.org/doc/scipy/reference/generated/scipy.stats.f_oneway.html)\n",
    "    * [Analysis of variance on Wikipedia](https://en.wikipedia.org/wiki/Analysis_of_variance)"
   ]
  },
  {
   "cell_type": "code",
   "execution_count": 13,
   "id": "23398fd5",
   "metadata": {
    "ExecuteTime": {
     "end_time": "2022-03-22T13:11:03.495748Z",
     "start_time": "2022-03-22T13:11:03.482750Z"
    }
   },
   "outputs": [
    {
     "name": "stdout",
     "output_type": "stream",
     "text": [
      "stat=0.096, p=0.908\n",
      "Probably the same distribution\n"
     ]
    }
   ],
   "source": [
    "# Example of the Analysis of Variance Test\n",
    "from scipy.stats import f_oneway\n",
    "data1 = [0.873, 2.817, 0.121, -0.945, -0.055, -1.436, 0.360, -1.478, -1.637, -1.869]\n",
    "data2 = [1.142, -0.432, -0.938, -0.729, -0.846, -0.157, 0.500, 1.183, -1.075, -0.169]\n",
    "data3 = [-0.208, 0.696, 0.928, -1.148, -0.213, 0.229, 0.137, 0.269, -0.870, -1.204]\n",
    "stat, p = f_oneway(data1, data2, data3)\n",
    "print('stat=%.3f, p=%.3f' % (stat, p))\n",
    "if p > 0.05:\n",
    "\tprint('Probably the same distribution')\n",
    "else:\n",
    "\tprint('Probably different distributions')"
   ]
  },
  {
   "cell_type": "markdown",
   "id": "e553bd36",
   "metadata": {},
   "source": [
    "#### D. 重复测量方差分析检验(Repeated Measures ANOVA Test)\n",
    "* 目的\n",
    "    * 测试两个或多个配对样本的均值是否显著不同。\n",
    "* 假设\n",
    "    * 每个样本中的观测值都是独立且分布相同的（iid）。\n",
    "    * 每个样本中的观测值呈正态分布。\n",
    "    * 每个样本中的观测值具有相同的方差。\n",
    "    * 每个样本的观测值是成对的。\n",
    "* 猜想\n",
    "    * H0：样本的均值相等。\n",
    "    * H1：样本的一个或多个均值不相等。\n",
    "* 参考资料\n",
    "    * [How to Calculate Parametric Statistical Hypothesis Tests in Python](https://machinelearningmastery.com/parametric-statistical-significance-tests-in-python/)\n",
    "    * [Analysis of variance on Wikipedia](https://en.wikipedia.org/wiki/Analysis_of_variance)"
   ]
  },
  {
   "cell_type": "code",
   "execution_count": 14,
   "id": "1bbef876",
   "metadata": {
    "ExecuteTime": {
     "end_time": "2022-03-22T13:11:03.833095Z",
     "start_time": "2022-03-22T13:11:03.497658Z"
    }
   },
   "outputs": [
    {
     "name": "stdout",
     "output_type": "stream",
     "text": [
      "   patient  drug  response\n",
      "0        1     1        30\n",
      "1        1     2        28\n",
      "2        1     3        16\n",
      "3        1     4        34\n",
      "4        2     1        14\n",
      "5        2     2        18\n",
      "6        2     3        10\n",
      "7        2     4        22\n",
      "8        3     1        24\n",
      "9        3     2        20\n",
      "              Anova\n",
      "==================================\n",
      "     F Value Num DF  Den DF Pr > F\n",
      "----------------------------------\n",
      "drug 24.7589 3.0000 12.0000 0.0000\n",
      "==================================\n",
      "\n"
     ]
    }
   ],
   "source": [
    "# scipy 没有相关模块，但 statsmodels.stats.anova 模块有相应功能\n",
    "# 本例参考 https://www.statology.org/repeated-measures-anova-python/\n",
    "# 参考 https://www.marsja.se/repeated-measures-anova-in-python-using-statsmodels/\n",
    "import numpy as np\n",
    "import pandas as pd\n",
    "\n",
    "#create data\n",
    "df = pd.DataFrame({'patient': np.repeat([1, 2, 3, 4, 5], 4),\n",
    "                   'drug': np.tile([1, 2, 3, 4], 5),\n",
    "                   'response': [30, 28, 16, 34,\n",
    "                                14, 18, 10, 22,\n",
    "                                24, 20, 18, 30,\n",
    "                                38, 34, 20, 44, \n",
    "                                26, 28, 14, 30]})\n",
    "\n",
    "#view first ten rows of data \n",
    "print(df.head(10))\n",
    "\n",
    "from statsmodels.stats.anova import AnovaRM\n",
    "\n",
    "#perform the repeated measures ANOVA\n",
    "print(AnovaRM(data=df, depvar='response', subject='patient', within=['drug']).fit())"
   ]
  },
  {
   "cell_type": "markdown",
   "id": "3d089782",
   "metadata": {},
   "source": [
    "### 5. 非参数统计假设检验(Nonparametric Statistical Hypothesis Tests)"
   ]
  },
  {
   "cell_type": "markdown",
   "id": "31833392",
   "metadata": {},
   "source": [
    "#### A. 曼惠特尼U检验(Mann-Whitney U Test)\n",
    "* 目的\n",
    "    * 测试两个独立样本的分布是否相等。\n",
    "* 假设\n",
    "    * 每个样本中的观测值都是独立且分布相同的（iid）。\n",
    "    * 可以对每个样本中的观测值进行排名。\n",
    "* 猜想\n",
    "    * H0：两个样本的分布相等。\n",
    "    * H1：两个样本的分布不相等。\n",
    "* 参考资料\n",
    "    * [How to Calculate Nonparametric Statistical Hypothesis Tests in Python](https://machinelearningmastery.com/nonparametric-statistical-significance-tests-in-python/)\n",
    "    * [scipy.stats.mannwhitneyu](https://docs.scipy.org/doc/scipy/reference/generated/scipy.stats.mannwhitneyu.html)\n",
    "    * [Mann-Whitney U test on Wikipedia](https://en.wikipedia.org/wiki/Mann%E2%80%93Whitney_U_test)"
   ]
  },
  {
   "cell_type": "code",
   "execution_count": 15,
   "id": "d2fe89e0",
   "metadata": {
    "ExecuteTime": {
     "end_time": "2022-03-22T13:11:03.848576Z",
     "start_time": "2022-03-22T13:11:03.834391Z"
    }
   },
   "outputs": [
    {
     "name": "stdout",
     "output_type": "stream",
     "text": [
      "stat=40.000, p=0.473\n",
      "Probably the same distribution\n"
     ]
    }
   ],
   "source": [
    "# Example of the Mann-Whitney U Test\n",
    "from scipy.stats import mannwhitneyu\n",
    "data1 = [0.873, 2.817, 0.121, -0.945, -0.055, -1.436, 0.360, -1.478, -1.637, -1.869]\n",
    "data2 = [1.142, -0.432, -0.938, -0.729, -0.846, -0.157, 0.500, 1.183, -1.075, -0.169]\n",
    "stat, p = mannwhitneyu(data1, data2)\n",
    "print('stat=%.3f, p=%.3f' % (stat, p))\n",
    "if p > 0.05:\n",
    "\tprint('Probably the same distribution')\n",
    "else:\n",
    "\tprint('Probably different distributions')"
   ]
  },
  {
   "cell_type": "markdown",
   "id": "da2e36e6",
   "metadata": {},
   "source": [
    "#### B. 威尔科克森符号秩检验(Wilcoxon Signed-Rank Test)\n",
    "* 目的\n",
    "    * 测试两个配对样本的分布是否相等。\n",
    "* 假设\n",
    "    * 每个样本中的观测值都是独立且分布相同的（iid）。\n",
    "    * 可以对每个样本中的观测值进行排名。\n",
    "    * 每个样本的观测值是成对的。\n",
    "* 猜想\n",
    "    * H0：两个样本的分布相等。\n",
    "    * H1：两个样本的分布不相等。\n",
    "* 参考资料\n",
    "    * [How to Calculate Nonparametric Statistical Hypothesis Tests in Python](https://machinelearningmastery.com/nonparametric-statistical-significance-tests-in-python/)\n",
    "    * [scipy.stats.wilcoxon](https://docs.scipy.org/doc/scipy/reference/generated/scipy.stats.wilcoxon.html)\n",
    "    * [Wilcoxon signed-rank test on Wikipedia](https://en.wikipedia.org/wiki/Wilcoxon_signed-rank_test)"
   ]
  },
  {
   "cell_type": "code",
   "execution_count": 16,
   "id": "c5d153bf",
   "metadata": {
    "ExecuteTime": {
     "end_time": "2022-03-22T13:11:03.863843Z",
     "start_time": "2022-03-22T13:11:03.850286Z"
    }
   },
   "outputs": [
    {
     "name": "stdout",
     "output_type": "stream",
     "text": [
      "stat=21.000, p=0.557\n",
      "Probably the same distribution\n"
     ]
    }
   ],
   "source": [
    "# Example of the Wilcoxon Signed-Rank Test\n",
    "from scipy.stats import wilcoxon\n",
    "data1 = [0.873, 2.817, 0.121, -0.945, -0.055, -1.436, 0.360, -1.478, -1.637, -1.869]\n",
    "data2 = [1.142, -0.432, -0.938, -0.729, -0.846, -0.157, 0.500, 1.183, -1.075, -0.169]\n",
    "stat, p = wilcoxon(data1, data2)\n",
    "print('stat=%.3f, p=%.3f' % (stat, p))\n",
    "if p > 0.05:\n",
    "\tprint('Probably the same distribution')\n",
    "else:\n",
    "\tprint('Probably different distributions')"
   ]
  },
  {
   "cell_type": "markdown",
   "id": "e36e4882",
   "metadata": {},
   "source": [
    "#### C. 克鲁斯卡尔-沃利斯检验(Kruskal-Wallis H Test)\n",
    "* 目的\n",
    "    * 测试两个或多个独立样本的分布是否相等。\n",
    "* 假设\n",
    "    * 每个样本中的观测值都是独立且分布相同的（iid）。\n",
    "    * 可以对每个样本中的观测值进行排名。\n",
    "* 猜想\n",
    "    * H0：所有样本的分布都相等。\n",
    "    * H1：一个或多个样本的分布不相等。\n",
    "* 参考资料\n",
    "    * [How to Calculate Nonparametric Statistical Hypothesis Tests in Python](https://machinelearningmastery.com/nonparametric-statistical-significance-tests-in-python/)\n",
    "    * [scipy.stats.kruskal](https://docs.scipy.org/doc/scipy/reference/generated/scipy.stats.kruskal.html)\n",
    "    * [Kruskal-Wallis one-way analysis of variance on Wikipedia](https://en.wikipedia.org/wiki/Kruskal%E2%80%93Wallis_one-way_analysis_of_variance)"
   ]
  },
  {
   "cell_type": "code",
   "execution_count": 17,
   "id": "696daf2d",
   "metadata": {
    "ExecuteTime": {
     "end_time": "2022-03-22T13:11:03.879181Z",
     "start_time": "2022-03-22T13:11:03.867668Z"
    }
   },
   "outputs": [
    {
     "name": "stdout",
     "output_type": "stream",
     "text": [
      "stat=0.571, p=0.450\n",
      "Probably the same distribution\n"
     ]
    }
   ],
   "source": [
    "from scipy.stats import kruskal\n",
    "data1 = [0.873, 2.817, 0.121, -0.945, -0.055, -1.436, 0.360, -1.478, -1.637, -1.869]\n",
    "data2 = [1.142, -0.432, -0.938, -0.729, -0.846, -0.157, 0.500, 1.183, -1.075, -0.169]\n",
    "stat, p = kruskal(data1, data2)\n",
    "print('stat=%.3f, p=%.3f' % (stat, p))\n",
    "if p > 0.05:\n",
    "\tprint('Probably the same distribution')\n",
    "else:\n",
    "\tprint('Probably different distributions')"
   ]
  },
  {
   "cell_type": "markdown",
   "id": "5d06f067",
   "metadata": {},
   "source": [
    "#### D. 弗里德曼检验(Friedman Test)\n",
    "* 目的\n",
    "    * 测试两个或多个配对样本的分布是否相等。\n",
    "* 假设\n",
    "    * 每个样本中的观测值都是独立且分布相同的（iid）。\n",
    "    * 可以对每个样本中的观测值进行排名。\n",
    "    * 每个样本的观测值是成对的。\n",
    "* 解释\n",
    "    * H0：所有样本的分布都相等。\n",
    "    * H1：一个或多个样本的分布不相等。\n",
    "* 参考资料\n",
    "    * [How to Calculate Nonparametric Statistical Hypothesis Tests in Python](https://machinelearningmastery.com/nonparametric-statistical-significance-tests-in-python/)\n",
    "    * [scipy.stats.friedmanchisquare](https://docs.scipy.org/doc/scipy/reference/generated/scipy.stats.kruskal.html)\n",
    "    * [Friedman test on Wikipedia](https://en.wikipedia.org/wiki/Friedman_test)"
   ]
  },
  {
   "cell_type": "code",
   "execution_count": 18,
   "id": "03b3cc47",
   "metadata": {
    "ExecuteTime": {
     "end_time": "2022-03-22T13:11:03.894984Z",
     "start_time": "2022-03-22T13:11:03.881078Z"
    }
   },
   "outputs": [
    {
     "name": "stdout",
     "output_type": "stream",
     "text": [
      "stat=0.800, p=0.670\n",
      "Probably the same distribution\n"
     ]
    }
   ],
   "source": [
    "# Example of the Friedman Test\n",
    "from scipy.stats import friedmanchisquare\n",
    "data1 = [0.873, 2.817, 0.121, -0.945, -0.055, -1.436, 0.360, -1.478, -1.637, -1.869]\n",
    "data2 = [1.142, -0.432, -0.938, -0.729, -0.846, -0.157, 0.500, 1.183, -1.075, -0.169]\n",
    "data3 = [-0.208, 0.696, 0.928, -1.148, -0.213, 0.229, 0.137, 0.269, -0.870, -1.204]\n",
    "stat, p = friedmanchisquare(data1, data2, data3)\n",
    "print('stat=%.3f, p=%.3f' % (stat, p))\n",
    "if p > 0.05:\n",
    "\tprint('Probably the same distribution')\n",
    "else:\n",
    "\tprint('Probably different distributions')"
   ]
  }
 ],
 "metadata": {
  "kernelspec": {
   "display_name": "Python 3 (ipykernel)",
   "language": "python",
   "name": "python3"
  },
  "language_info": {
   "codemirror_mode": {
    "name": "ipython",
    "version": 3
   },
   "file_extension": ".py",
   "mimetype": "text/x-python",
   "name": "python",
   "nbconvert_exporter": "python",
   "pygments_lexer": "ipython3",
   "version": "3.9.7"
  }
 },
 "nbformat": 4,
 "nbformat_minor": 5
}
